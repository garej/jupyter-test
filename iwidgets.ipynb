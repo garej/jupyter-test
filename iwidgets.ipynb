{
 "cells": [
  {
   "cell_type": "markdown",
   "metadata": {},
   "source": [
    "## Static examples"
   ]
  },
  {
   "cell_type": "code",
   "execution_count": 1,
   "metadata": {
    "collapsed": false,
    "scrolled": true
   },
   "outputs": [
    {
     "data": {
      "image/png": "[encoded data removed]",
      "text/plain": [
       "<matplotlib.figure.Figure at 0x1e54bdf97b8>"
      ]
     },
     "metadata": {},
     "output_type": "display_data"
    },
    {
     "data": {
      "text/plain": [
       "array([  0.        ,  -0.57894737,  -1.15789474,  -1.73684211,\n",
       "        -2.31578947,  -2.89473684,  -3.47368421,  -4.05263158,\n",
       "        -4.63157895,  -5.21052632,  -5.78947368,  -6.36842105,\n",
       "        -6.94736842,  -7.52631579,  -8.10526316,  -8.68421053,\n",
       "        -9.26315789,  -9.84210526, -10.42105263, -11.        ])"
      ]
     },
     "metadata": {},
     "output_type": "display_data"
    }
   ],
   "source": [
    "from ipywidgets import interactive\n",
    "import matplotlib.pyplot as plt\n",
    "import numpy as np\n",
    "\n",
    "def f(m, b):\n",
    "    \n",
    "    x = np.linspace(0, 10, 20)\n",
    "    y = m * x + b\n",
    "    \n",
    "    plt.figure(1, figsize=(3,2))\n",
    "    plt.plot(x, y)\n",
    "    plt.ylim(-5, 5)\n",
    "    plt.show()\n",
    "    return y\n",
    "\n",
    "w = interactive(f, m=(-2.0, 2.0), b=(-3, 3, 0.5))\n",
    "output = w.children[-1]\n",
    "output.layout.height = '60px'             # distance between the graph and the sliders\n",
    "w"
   ]
  },
  {
   "cell_type": "markdown",
   "metadata": {},
   "source": [
    "## Interactive solve (symbolic)"
   ]
  },
  {
   "cell_type": "code",
   "execution_count": 2,
   "metadata": {
    "collapsed": false
   },
   "outputs": [],
   "source": [
    "%matplotlib inline\n",
    "import matplotlib.pyplot as plt\n",
    "import numpy as np\n",
    "from sympy import *\n",
    "from ipywidgets import interact, interactive"
   ]
  },
  {
   "cell_type": "code",
   "execution_count": 3,
   "metadata": {
    "collapsed": false
   },
   "outputs": [],
   "source": [
    "def module(b=2, c=5):\n",
    "    \n",
    "    t = np.linspace(0, 10, 101)\n",
    "    \n",
    "    # for plotting main lines\n",
    "    y1 =  9 - c * t\n",
    "    y2 = -4 + b * t\n",
    "    \n",
    "    # symbolic solve - point for plotting dashed lines\n",
    "    x, y = symbols(['x', 'y'])\n",
    "    sol = solve([9 - c * x - y, -4 + b * x - y], [x, y])        # b and c get used in calculations\n",
    "    \n",
    "    # ploting\n",
    "    plt.plot(t, y1, 'b', label='y1 =  9 - c * t')\n",
    "    plt.plot(t, y2, 'g', label='y2 = -4 + b * t')\n",
    "    \n",
    "    plt.plot([sol[x], sol[x]], [-5, sol[y]], '--')\n",
    "    plt.plot([0, sol[x]], [sol[y], sol[y]], '--')\n",
    "    \n",
    "    plt.legend()                         # if label gets used\n",
    "    \n",
    "    plt.xlabel('t')                      # AxesLabel\n",
    "    plt.ylabel('y').set_rotation(0)      # argument .rotation=0 is also valid\n",
    "    plt.ylim(-5, 5)                      # PlotRange\n",
    "    \n",
    "    plt.show()\n",
    "    \n",
    "    return sol[x], sol[y]"
   ]
  },
  {
   "cell_type": "code",
   "execution_count": 4,
   "metadata": {
    "collapsed": false
   },
   "outputs": [
    {
     "data": {
      "image/png": "[encoded data removed]",
      "text/plain": [
       "<matplotlib.figure.Figure at 0x1e54e40ea90>"
      ]
     },
     "metadata": {},
     "output_type": "display_data"
    },
    {
     "data": {
      "text/plain": [
       "(1.51162790697674, 0.232558139534884)"
      ]
     },
     "metadata": {},
     "output_type": "display_data"
    }
   ],
   "source": [
    "interact(module, b=(0, 4, 0.1), c=(3, 7, 0.1));"
   ]
  },
  {
   "cell_type": "code",
   "execution_count": 5,
   "metadata": {
    "collapsed": false
   },
   "outputs": [
    {
     "data": {
      "image/png": "[encoded data removed]",
      "text/plain": [
       "<matplotlib.figure.Figure at 0x1e54e576198>"
      ]
     },
     "metadata": {},
     "output_type": "display_data"
    },
    {
     "data": {
      "text/plain": [
       "(13/7, -2/7)"
      ]
     },
     "execution_count": 5,
     "metadata": {},
     "output_type": "execute_result"
    }
   ],
   "source": [
    "module()"
   ]
  },
  {
   "cell_type": "markdown",
   "metadata": {},
   "source": [
    "## Interactive solve (numeric)"
   ]
  },
  {
   "cell_type": "code",
   "execution_count": 6,
   "metadata": {
    "collapsed": true
   },
   "outputs": [],
   "source": [
    "def n_module(b=2, c=5):\n",
    "    \n",
    "    t = np.linspace(0, 10, 101)\n",
    "    \n",
    "    # for plotting main lines\n",
    "    y1 =  9 - c * t\n",
    "    y2 = -4 + b * t\n",
    "    \n",
    "    # numeric solve - point for plotting dashed line\n",
    "    A = [\n",
    "        [ c, 1],\n",
    "        [-b, 1]\n",
    "    ]\n",
    "    B = [9, -4]\n",
    "    sol = np.linalg.solve(A, B)        # b and c get used in calculations\n",
    "    \n",
    "    # ploting\n",
    "    plt.plot(t, y1, 'b', label='y1 =  9 - c * t')\n",
    "    plt.plot(t, y2, 'g', label='y2 = -4 + b * t')\n",
    "    \n",
    "    plt.plot([sol[0], sol[0]], [-5, sol[1]], '--')\n",
    "    plt.plot([0, sol[0]], [sol[1], sol[1]], '--')\n",
    "    \n",
    "    plt.legend()                         # if label gets used\n",
    "    \n",
    "    plt.xlabel('t')                      # AxesLabel\n",
    "    plt.ylabel('y').set_rotation(0)      # argument .rotation=0 is also valid\n",
    "    plt.ylim(-5, 5)                      # PlotRange\n",
    "    \n",
    "    plt.show()\n",
    "    \n",
    "    return sol[0], sol[1]"
   ]
  },
  {
   "cell_type": "code",
   "execution_count": 16,
   "metadata": {
    "collapsed": false
   },
   "outputs": [
    {
     "data": {
      "image/png": "[encoded data removed]",
      "text/plain": [
       "<matplotlib.figure.Figure at 0x2eb5f8b2828>"
      ]
     },
     "metadata": {},
     "output_type": "display_data"
    },
    {
     "data": {
      "text/plain": [
       "(1.857142857142857, -0.28571428571428559)"
      ]
     },
     "metadata": {},
     "output_type": "display_data"
    }
   ],
   "source": [
    "interact(n_module, b=(0, 4, 0.1), c=(3, 7, 0.1));"
   ]
  },
  {
   "cell_type": "code",
   "execution_count": 31,
   "metadata": {
    "collapsed": false
   },
   "outputs": [],
   "source": [
    "def tmp_module(arg=2.):\n",
    "    \"\"\"\n",
    "    symbolic solve\n",
    "    \"\"\"\n",
    "    x, y = symbols(['x', 'y'])\n",
    "    sol = solve([9 - 3 * x - y, -4 + arg * x - y], [x, y])\n",
    "    return float(sol[x]), sol[y]"
   ]
  },
  {
   "cell_type": "code",
   "execution_count": 32,
   "metadata": {
    "collapsed": false
   },
   "outputs": [
    {
     "data": {
      "text/plain": [
       "(2.6, 1.20000000000000)"
      ]
     },
     "execution_count": 32,
     "metadata": {},
     "output_type": "execute_result"
    }
   ],
   "source": [
    "tmp = tmp_module()\n",
    "tmp"
   ]
  },
  {
   "cell_type": "code",
   "execution_count": null,
   "metadata": {
    "collapsed": true
   },
   "outputs": [],
   "source": []
  }
 ],
 "metadata": {
  "kernelspec": {
   "display_name": "Python 3",
   "language": "python",
   "name": "python3"
  },
  "language_info": {
   "codemirror_mode": {
    "name": "ipython",
    "version": 3
   },
   "file_extension": ".py",
   "mimetype": "text/x-python",
   "name": "python",
   "nbconvert_exporter": "python",
   "pygments_lexer": "ipython3",
   "version": "3.6.0"
  },
  "widgets": {
   "state": {
    "2b62c520f28d488e8bee407a69c80299": {
     "views": [
      {
       "cell_index": 5
      }
     ]
    },
    "cfaf746875aa40d1a8466912117f7df3": {
     "views": [
      {
       "cell_index": 1
      }
     ]
    }
   },
   "version": "1.2.0"
  }
 },
 "nbformat": 4,
 "nbformat_minor": 2
}
